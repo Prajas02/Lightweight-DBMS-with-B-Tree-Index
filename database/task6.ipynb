{
 "cells": [
  {
   "cell_type": "markdown",
   "id": "4df2754f",
   "metadata": {},
   "source": [
    "# Lightweight DBMS - JSON Persistence Example\n"
   ]
  },
  {
   "cell_type": "code",
   "execution_count": 1,
   "id": "e651f7c7",
   "metadata": {},
   "outputs": [],
   "source": [
    "import json\n",
    "import os\n",
    "\n",
    "class Database:\n",
    "    def __init__(self):\n",
    "        self.data = {}  # key = table name, value = { schema, primary_key, records }\n",
    "\n",
    "    def create_table(self, table_name, schema, primary_key):\n",
    "        if table_name in self.data:\n",
    "            raise Exception(f\"Table '{table_name}' already exists in database.\")\n",
    "        self.data[table_name] = {\n",
    "            'schema': schema,\n",
    "            'primary_key': primary_key,\n",
    "            'records': []\n",
    "        }\n",
    "\n",
    "    def delete_table(self, table_name):\n",
    "        if table_name not in self.data:\n",
    "            raise Exception(f\"Table '{table_name}' does not exist.\")\n",
    "        del self.data[table_name]\n",
    "\n",
    "    def list_tables(self):\n",
    "        return list(self.data.keys())\n",
    "\n",
    "    def insert_into(self, table_name, record):\n",
    "        if table_name not in self.data:\n",
    "            raise Exception(f\"Table '{table_name}' does not exist.\")\n",
    "        schema_keys = self.data[table_name]['schema'].keys()\n",
    "        for key in schema_keys:\n",
    "            if key not in record:\n",
    "                raise Exception(f\"Missing column '{key}' in the record.\")\n",
    "        self.data[table_name]['records'].append(record)\n",
    "\n",
    "    def save_to_disk(self, filename):\n",
    "        with open(filename, 'w') as f:\n",
    "            json.dump(self.data, f, indent=4)\n",
    "\n",
    "    def load_from_disk(self, filename):\n",
    "        if not os.path.exists(filename):\n",
    "            raise FileNotFoundError(\"No persistent file found.\")\n",
    "        with open(filename, 'r') as f:\n",
    "            self.data = json.load(f)\n"
   ]
  },
  {
   "cell_type": "code",
   "execution_count": 2,
   "id": "7bbf9bff",
   "metadata": {},
   "outputs": [
    {
     "name": "stdout",
     "output_type": "stream",
     "text": [
      "Database loaded from disk.\n"
     ]
    }
   ],
   "source": [
    "\n",
    "db = Database()\n",
    "filename = 'library_db.json'\n",
    "\n",
    "# Load or initialize\n",
    "try:\n",
    "    db.load_from_disk(filename)\n",
    "    print(\"Database loaded from disk.\")\n",
    "except FileNotFoundError:\n",
    "    print(\"No persistent file found.\")\n",
    "    db.save_to_disk(filename)\n"
   ]
  },
  {
   "cell_type": "code",
   "execution_count": 3,
   "id": "d585041f",
   "metadata": {},
   "outputs": [],
   "source": [
    "\n",
    "# Schemas\n",
    "schema_books = {\n",
    "    'Book_ID': 'int',\n",
    "    'Book_Name': 'varchar(100)',\n",
    "    'Book_Author': 'varchar(100)',\n",
    "    'Book_Publication_Year': 'year',\n",
    "    'Total_Reviews': 'int',\n",
    "    'Quantity': 'int',\n",
    "    'BOOK_GENRE': 'varchar(1000)'\n",
    "}\n",
    "\n",
    "schema_logs = {\n",
    "    'Log_ID': 'int',\n",
    "    'Action': 'varchar(255)',\n",
    "    'Timestamp': 'timestamp'\n",
    "}\n",
    "\n",
    "# Create Tables\n",
    "if 'BOOKS_DETAILS' not in db.list_tables():\n",
    "    db.create_table('BOOKS_DETAILS', schema_books, 'Book_ID')\n",
    "\n",
    "if 'SYS_LOGS' not in db.list_tables():\n",
    "    db.create_table('SYS_LOGS', schema_logs, 'Log_ID')\n"
   ]
  },
  {
   "cell_type": "code",
   "execution_count": 4,
   "id": "8b9e86a3",
   "metadata": {},
   "outputs": [
    {
     "name": "stdout",
     "output_type": "stream",
     "text": [
      "Data inserted and saved.\n"
     ]
    }
   ],
   "source": [
    "# Insert Records\n",
    "try:\n",
    "    db.insert_into('BOOKS_DETAILS', {\n",
    "        'Book_ID': 1,\n",
    "        'Book_Name': '1984',\n",
    "        'Book_Author': 'George Orwell',\n",
    "        'Book_Publication_Year': 1949,\n",
    "        'Total_Reviews': 8945,\n",
    "        'Quantity': 10,\n",
    "        'BOOK_GENRE': 'Dystopian Fiction'\n",
    "    })\n",
    "\n",
    "    db.insert_into('SYS_LOGS', {\n",
    "        'Log_ID': 1,\n",
    "        'Action': 'Insert Book',\n",
    "        'Timestamp': '2025-04-20 14:00:00'\n",
    "    })\n",
    "\n",
    "    db.save_to_disk(filename)\n",
    "    print(\"Data inserted and saved.\")\n",
    "except Exception as e:\n",
    "    print(\"Insert Error:\", e)\n"
   ]
  },
  {
   "cell_type": "code",
   "execution_count": 6,
   "id": "8b5537cf",
   "metadata": {},
   "outputs": [
    {
     "name": "stdout",
     "output_type": "stream",
     "text": [
      "\n",
      "Table: tables\n",
      "Load Error: 'records'\n"
     ]
    }
   ],
   "source": [
    "# Verify\n",
    "try:\n",
    "    verify = Database()\n",
    "    verify.load_from_disk(filename)\n",
    "    for table, content in verify.data.items():\n",
    "        print(f\"\\nTable: {table}\")\n",
    "        print(\"First record:\", content['records'][0] if content['records'] else \"No data\")\n",
    "except Exception as e:\n",
    "    print(\"Load Error:\", e)"
   ]
  }
 ],
 "metadata": {
  "kernelspec": {
   "display_name": ".venv",
   "language": "python",
   "name": "python3"
  },
  "language_info": {
   "codemirror_mode": {
    "name": "ipython",
    "version": 3
   },
   "file_extension": ".py",
   "mimetype": "text/x-python",
   "name": "python",
   "nbconvert_exporter": "python",
   "pygments_lexer": "ipython3",
   "version": "3.12.6"
  }
 },
 "nbformat": 4,
 "nbformat_minor": 5
}
